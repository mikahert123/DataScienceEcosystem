{
 "cells": [
  {
   "cell_type": "markdown",
   "id": "62328b3b-aede-4e04-baf0-3fd67023a284",
   "metadata": {},
   "source": [
    "# Data Science Tools and Ecosystem"
   ]
  },
  {
   "cell_type": "markdown",
   "id": "99bd1376-5097-4849-8667-813bba2d7904",
   "metadata": {},
   "source": [
    "## In this notebook, Data Science Tools and Ecosystem are summarized."
   ]
  },
  {
   "cell_type": "markdown",
   "id": "a13732b3-b66a-4606-915f-19fa99e07c41",
   "metadata": {},
   "source": [
    "**Objectives**\n",
    "- List popular languages for Data Science\n",
    "- Common libraries used by Data Scientists\n",
    "- Arithmatic expressions"
   ]
  },
  {
   "cell_type": "markdown",
   "id": "80013a7c-8458-4d68-aa6c-a955a1a27343",
   "metadata": {},
   "source": [
    "## Some of the popular languages that Data Scientists use are:\n",
    "### 1. Python\n",
    "### 2. SQL\n",
    "### 3. R "
   ]
  },
  {
   "cell_type": "markdown",
   "id": "71faf23d-748c-44c1-8d39-00afb9c294aa",
   "metadata": {},
   "source": [
    "## Some of the commonly used libraries used by Data Scientists include:\n",
    "### 1. TensorFlow\n",
    "### 2. Pandas\n",
    "### 3. SciPy"
   ]
  },
  {
   "cell_type": "markdown",
   "id": "22db72fc-a389-4e3c-ad2f-30ad741b59c1",
   "metadata": {},
   "source": [
    "\n",
    " \n",
    "|Data Science Tools |\n",
    " ---------------------\n",
    "Jupyter Notebook\n",
    "RStudio \n",
    "Apache Zeppelin "
   ]
  },
  {
   "attachments": {},
   "cell_type": "markdown",
   "id": "2eb02cef-7ce9-46c4-8d7e-a4a8dd8ea1fe",
   "metadata": {},
   "source": [
    "### Below are a few examples of evaluating arithmatic expressions in Python"
   ]
  },
  {
   "cell_type": "code",
   "execution_count": 2,
   "id": "cca5ec9e-daef-4cbf-a052-0bad1aec72f4",
   "metadata": {},
   "outputs": [
    {
     "data": {
      "text/plain": [
       "17"
      ]
     },
     "execution_count": 2,
     "metadata": {},
     "output_type": "execute_result"
    }
   ],
   "source": [
    "(3*4)+5 \n",
    "\n",
    "# This is a simple arithmatic expression to multiply and add integers "
   ]
  },
  {
   "cell_type": "code",
   "execution_count": 3,
   "id": "a1c9ec52-8311-484e-b06a-097a898b4cbd",
   "metadata": {},
   "outputs": [
    {
     "data": {
      "text/plain": [
       "3.3333333333333335"
      ]
     },
     "execution_count": 3,
     "metadata": {},
     "output_type": "execute_result"
    }
   ],
   "source": [
    "200/60\n",
    "\n",
    "# This is convert 200 minutes into hours by dividing by 60"
   ]
  },
  {
   "cell_type": "markdown",
   "id": "9e1e440a-7e17-4b5d-87bf-a8942f374fc1",
   "metadata": {},
   "source": [
    "## Author\n",
    "Sha'Mika"
   ]
  },
  {
   "cell_type": "code",
   "execution_count": null,
   "id": "08acdb79-f256-412c-a28c-a47548f1b35f",
   "metadata": {},
   "outputs": [],
   "source": []
  }
 ],
 "metadata": {
  "kernelspec": {
   "display_name": "anaconda-panel-2023.05-py310",
   "language": "python",
   "name": "conda-env-anaconda-panel-2023.05-py310-py"
  },
  "language_info": {
   "codemirror_mode": {
    "name": "ipython",
    "version": 3
   },
   "file_extension": ".py",
   "mimetype": "text/x-python",
   "name": "python",
   "nbconvert_exporter": "python",
   "pygments_lexer": "ipython3",
   "version": "3.11.5"
  }
 },
 "nbformat": 4,
 "nbformat_minor": 5
}
